{
 "cells": [
  {
   "cell_type": "code",
   "execution_count": 1,
   "id": "9a91d74c",
   "metadata": {},
   "outputs": [
    {
     "name": "stdout",
     "output_type": "stream",
     "text": [
      "Requirement already satisfied: mysql-connector-python in d:\\tafox\\apps\\lib\\site-packages (9.0.0)\n"
     ]
    }
   ],
   "source": [
    "!pip install mysql-connector-python"
   ]
  },
  {
   "cell_type": "code",
   "execution_count": 2,
   "id": "a86677ea",
   "metadata": {},
   "outputs": [],
   "source": [
    "import mysql.connector as connector"
   ]
  },
  {
   "cell_type": "code",
   "execution_count": 4,
   "id": "a81ef1fc",
   "metadata": {},
   "outputs": [],
   "source": [
    "connection = connector.connect(user = \"de_project\", password = \"98Huey23TRAP\", db = \"littlelemondb\")"
   ]
  },
  {
   "cell_type": "code",
   "execution_count": 5,
   "id": "193ea065",
   "metadata": {},
   "outputs": [],
   "source": [
    "cursor = connection.cursor()\n",
    "\n",
    "show_tables_query = \"SHOW tables\" \n",
    "\n",
    "cursor.execute(show_tables_query)"
   ]
  },
  {
   "cell_type": "code",
   "execution_count": 6,
   "id": "354469b6",
   "metadata": {},
   "outputs": [
    {
     "name": "stdout",
     "output_type": "stream",
     "text": [
      "[('bookings',), ('customerdetails',), ('deliverystatus',), ('menu',), ('orders',), ('ordersview',), ('staff',)]\n"
     ]
    }
   ],
   "source": [
    "results = cursor.fetchall()\n",
    "\n",
    "print(results)"
   ]
  },
  {
   "cell_type": "code",
   "execution_count": 14,
   "id": "02befce1",
   "metadata": {},
   "outputs": [],
   "source": [
    "join_query = \"\"\"\n",
    "SELECT concat('$', o.TotalCost) as Cost, concat(c.FirstName, ' ', c.LastName) as FullName, c.PhoneNo, c.EmailAddress\n",
    "FROM orders as o \n",
    "INNER JOIN customerdetails as c\n",
    "ON o.CustomerID = c.CustomerID\n",
    "WHERE o.TotalCost > 60;\n",
    "\"\"\""
   ]
  },
  {
   "cell_type": "code",
   "execution_count": 15,
   "id": "ceae4ff2",
   "metadata": {},
   "outputs": [
    {
     "name": "stdout",
     "output_type": "stream",
     "text": [
      "('Cost', 'FullName', 'PhoneNo', 'EmailAddress')\n",
      "('$210', 'Bob Hope', '800-588-6958', 'BH@mail.com')\n",
      "('$190', 'Greg Salo', '800-456-8139', 'GS@mail.com')\n"
     ]
    }
   ],
   "source": [
    "cursor.execute(join_query)\n",
    "\n",
    "results = cursor.fetchall()\n",
    "\n",
    "colnames = cursor.column_names\n",
    "\n",
    "print(colnames)\n",
    "\n",
    "for result in results:\n",
    "    print(result)\n"
   ]
  },
  {
   "cell_type": "code",
   "execution_count": null,
   "id": "a7bf14c0",
   "metadata": {},
   "outputs": [],
   "source": []
  }
 ],
 "metadata": {
  "kernelspec": {
   "display_name": "Python 3 (ipykernel)",
   "language": "python",
   "name": "python3"
  },
  "language_info": {
   "codemirror_mode": {
    "name": "ipython",
    "version": 3
   },
   "file_extension": ".py",
   "mimetype": "text/x-python",
   "name": "python",
   "nbconvert_exporter": "python",
   "pygments_lexer": "ipython3",
   "version": "3.9.13"
  }
 },
 "nbformat": 4,
 "nbformat_minor": 5
}
